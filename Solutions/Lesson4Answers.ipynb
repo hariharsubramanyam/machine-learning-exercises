{
 "cells": [
  {
   "cell_type": "markdown",
   "metadata": {},
   "source": [
    "# Logistic Regression\n",
    "\n",
    "In Lesson 2 and Lesson 3, we learned how to solve regression with Linear Regression.\n",
    "\n",
    "In this lesson, we will learn how to solve binary classification with Logistic Regression. For some stupid reason, Logistic Regression has the word \"Regression\" in its name even though it solves classification.\n",
    "\n",
    "**Exercise 1: Read pages 16-19 in http://cs229.stanford.edu/notes/cs229-notes1.pdf**\n",
    "\n",
    "Now that you have read the pages above, let's do the following:\n",
    "\n",
    "1. Implement the logistic regression function\n",
    "2. Implement the gradient of the logistic regression function\n",
    "3. Implement the gradient descent step."
   ]
  },
  {
   "cell_type": "markdown",
   "metadata": {},
   "source": [
    "**Exercise 2 (logistic regression function): Implement a function that computes**\n",
    "\n",
    "$$\n",
    "h(\\theta, \\mathbf{x}) = \\frac{1}{1 + e^{-\\mathbf{\\theta}^T\\mathbf{x}}}\n",
    "$$\n"
   ]
  },
  {
   "cell_type": "code",
   "execution_count": 8,
   "metadata": {},
   "outputs": [
    {
     "name": "stdout",
     "output_type": "stream",
     "text": [
      "[[0.88079708]\n",
      " [0.99752738]]\n",
      "Your implementation looks good\n"
     ]
    }
   ],
   "source": [
    "import numpy as np\n",
    "\n",
    "def log_reg(theta, X):\n",
    "    \"\"\"\n",
    "    @param theta - parameter vector theta of size d x 1\n",
    "    @param X - design matrix of size m x d (m is number of examples, d is dimensionality of feature vector)\n",
    "    @return a vector of size m x 1 which the i^th element is the logistic regression value (as shown in the\n",
    "        cell above) for the i^th example.\n",
    "    \"\"\"\n",
    "    return np.array(1.0 / (1 + np.exp(-1 * (np.matmul(X, theta)))))\n",
    "    \n",
    "\n",
    "X = np.array([\n",
    "    [1, 2, 3],\n",
    "    [3, 4, 5],\n",
    "])\n",
    "theta = np.array([1, 2, -1]).reshape(3, 1)\n",
    "print(log_reg(theta, X))\n",
    "expected = np.array([0.88079708,  0.99752738]).reshape(2, 1)\n",
    "actual = log_reg(theta, X)\n",
    "almost_equal = lambda x, y: abs(x - y) < 0.0001\n",
    "try:\n",
    "    assert(actual.shape == expected.shape)\n",
    "    assert(len([i for i in range(actual.shape[0]) if not almost_equal(actual[i], expected[i])]) == 0)\n",
    "    print(\"Your implementation looks good\")\n",
    "except:\n",
    "    print(\"Your implementation has a bug\")"
   ]
  },
  {
   "cell_type": "markdown",
   "metadata": {},
   "source": [
    "**Exercise 3 (gradient): Implement a function that computes the gradient with respect to $\\theta$ for a given $\\theta_{n}$, $\\mathbf{x}$, and $y$**\n",
    "\n",
    "\n",
    "$$\n",
    "\\nabla_{\\mathbf{\\theta}} \\ell(\\theta_n, \\mathbf{x}, y) = (h(\\theta_n, \\mathbf{x}) - y)\\mathbf{x}\n",
    "$$"
   ]
  },
  {
   "cell_type": "code",
   "execution_count": 9,
   "metadata": {},
   "outputs": [
    {
     "name": "stdout",
     "output_type": "stream",
     "text": [
      "Your implementation looks good\n"
     ]
    }
   ],
   "source": [
    "\"\"\"\n",
    "Exercise 3: Implement gradient of logistic regression function.\n",
    "\"\"\"\n",
    "\n",
    "def gradient(theta, X, y):\n",
    "    \"\"\"\n",
    "    @param theta - parameter vector theta of size d x 1\n",
    "    @param X - design matrix of size m x d (m is number of examples, d is dimensionality of feature vector)\n",
    "    @param y - label vector of size m x 1 indicating the binary label associated with each training example\n",
    "    @return a vector of size m x d where the i^th row is the gradient vector (as shown in the cell above) for the i^th\n",
    "        example.\n",
    "    \n",
    "    Hint: To element-wise multiply two matrices of the same size, do np.multiply(A, B).\n",
    "    \"\"\"\n",
    "    return np.multiply(log_reg(theta, X) - y, X)\n",
    "\n",
    "\n",
    "X = np.array([\n",
    "    [1, 2, 3],\n",
    "    [3, 4, 5],\n",
    "])\n",
    "theta = np.array([1, 2, -1]).reshape(3, 1)\n",
    "y = np.array([1, 0]).reshape(2, 1)\n",
    "\n",
    "\n",
    "actual = gradient(theta, X, y)\n",
    "expected = np.array([\n",
    "    [-0.11920292,  -0.23840584,  -0.35760877],\n",
    "    [2.99258213, 3.99010951, 4.98763688],\n",
    "])\n",
    "try:\n",
    "    assert(actual.shape == expected.shape)\n",
    "    for i in range(actual.shape[0]):\n",
    "        for j in range(actual.shape[1]):\n",
    "            assert(almost_equal(actual[i][j], expected[i][j]))\n",
    "    print('Your implementation looks good')\n",
    "except:\n",
    "    print('There is a bug in your implementation')"
   ]
  },
  {
   "cell_type": "markdown",
   "metadata": {},
   "source": [
    "**Exercise 4 (gradient descent): Implement a function that computes**\n",
    "\n",
    "\n",
    "$$\n",
    "\\theta_{n+1} = \\theta_{n} - \\alpha \\sum_{i=1}^{m}{\\nabla_{\\mathbf{\\theta}_{n}} \\ell(\\theta_n, \\mathbf{x}^{(i)}, y^{(i)})}\n",
    "$$"
   ]
  },
  {
   "cell_type": "code",
   "execution_count": 10,
   "metadata": {},
   "outputs": [],
   "source": [
    "def gradient_descent(theta, X, y, alpha):\n",
    "    \"\"\"\n",
    "    @param theta - parameter vector theta of size d x 1\n",
    "    @param X - design matrix of size m x d (m is number of examples, d is dimensionality of feature vector)\n",
    "    @param y - label vector of size m x 1 indicating the binary label associated with each training example\n",
    "    @param alpha - the learning rate parameter.\n",
    "    @return a vector of size d x 1 representing the new theta after doing the gradient descent step (as shown\n",
    "        above)\n",
    "    \"\"\"\n",
    "    gr = gradient(theta, X, y)\n",
    "    thetadiff = np.sum(gr, axis=0)\n",
    "    ret= theta - (alpha * thetadiff).reshape(len(theta),1)\n",
    "    return ret\n",
    "\n",
    "X = np.array([\n",
    "    [1, 2, 3],\n",
    "    [3, 4, 5],\n",
    "])\n",
    "theta = np.array([1, 2, -1]).reshape(3, 1)\n",
    "y = np.array([1, 0]).reshape(2, 1)\n",
    "alpha = 0.01\n",
    "\n",
    "expected = np.array([\n",
    "    [ 0.97126621],\n",
    "    [ 1.96248296],\n",
    "    [-1.04630028],\n",
    "])\n",
    "actual = gradient_descent(theta, X, y, alpha)\n",
    "try:\n",
    "    assert(expected.shape == actual.shape)\n",
    "    for i in range(expected.shape[0]):\n",
    "        assert(almost_equal(actual[i], expected[i]))\n",
    "except:\n",
    "    print('Implementation has a bug')"
   ]
  },
  {
   "cell_type": "markdown",
   "metadata": {},
   "source": [
    "## Final Algorithm\n",
    "\n",
    "Now that we have implemented all the pieces above, it's easy to combine them together."
   ]
  },
  {
   "cell_type": "code",
   "execution_count": 11,
   "metadata": {},
   "outputs": [],
   "source": [
    "def fit_logistic_regression(\n",
    "    X,\n",
    "    y, \n",
    "    alpha=0.01,\n",
    "    sigma=0.1,\n",
    "    num_epochs=1000,\n",
    "):\n",
    "    \"\"\"\n",
    "    @param X - design matrix of size m x d (m is number of examples, d is dimensionality of feature vector)\n",
    "    @param y - label vector of size m x 1 indicating the binary label associated with each training example\n",
    "    @param alpha - the learning rate parameter.\n",
    "    @param sigma - We initialize the theta vector with zero-mean Gaussian with the given value of sigma.\n",
    "    @param num_epochs - The number of gradient descent steps we will take.\n",
    "    \n",
    "    @return The theta vector representing the parameters of the logistic regression.\n",
    "    \"\"\"\n",
    "    (m, d) = X.shape\n",
    "    y = y.reshape((m, 1))\n",
    "    \n",
    "    # Let's initialize the theta vector by randomly sampling\n",
    "    # from a zero-mean Gaussian with standard deviation sigma.\n",
    "    theta = np.random.normal(0, sigma, d).reshape((d, 1))\n",
    "    \n",
    "    # Run gradient descent.\n",
    "    for i in range(num_epochs):\n",
    "        theta = gradient_descent(theta, X, y, alpha)\n",
    "    \n",
    "    return theta"
   ]
  },
  {
   "cell_type": "markdown",
   "metadata": {},
   "source": [
    "## Running Logistic Regression on a Simple Dataset\n",
    "\n",
    "Now let's try out that logistic regression fitting function.\n",
    "\n",
    "Let us generate a simple dataset with 10,000 examples where each example is a 4-element feature vector.\n",
    "\n",
    "Each element of the feature vector is randomly sampled from a zero-mean unit-variance Gaussian.\n",
    "\n",
    "We will compute the label for a feature vector as follows:\n",
    "\n",
    "1. Sum the elements of the feature vector\n",
    "2. Add some random noise from a zero-mean, unit-variance Gaussian\n",
    "3. If the resulting value is positive, give it label = 1. Otherwise, give it label = 0"
   ]
  },
  {
   "cell_type": "code",
   "execution_count": 12,
   "metadata": {},
   "outputs": [
    {
     "name": "stdout",
     "output_type": "stream",
     "text": [
      "True labels [0 0 0 ... 1 0 0]\n",
      "Predicted scores [1.33875823e-08 1.98254073e-09 1.82875842e-14 ... 1.00000000e+00\n",
      " 1.78252666e-05 2.75116228e-03]\n"
     ]
    }
   ],
   "source": [
    "from sklearn.metrics import precision_recall_curve\n",
    "import matplotlib.pyplot as plt\n",
    "from sklearn.model_selection import train_test_split\n",
    "\n",
    "(m, d) = (10000, 4)\n",
    "X = np.random.normal(0, 1, (m, d))\n",
    "y = np.where((np.random.normal(0, 1, m) + np.sum(X, axis=1)) > 0, 1, 0)\n",
    "\n",
    "# Split it into a train and test set.\n",
    "X_train, X_test, y_train, y_test = train_test_split(X, y, test_size=0.2, random_state=42)\n",
    "\n",
    "# Fit Logistic Regression and make predictions.\n",
    "theta = fit_logistic_regression(X_train, y_train)\n",
    "y_pred_scores = log_reg(theta, X_test)\n",
    "\n",
    "# Reshape the predictions and labels for the test set.\n",
    "m_test = y_test.shape[0]\n",
    "y_test = y_test.reshape(m_test)\n",
    "y_pred_scores = y_pred_scores.reshape(m_test)\n",
    "\n",
    "print('True labels', y_test)\n",
    "print('Predicted scores', y_pred_scores)"
   ]
  },
  {
   "cell_type": "markdown",
   "metadata": {},
   "source": [
    "## Evaluating Binary Classification\n",
    "\n",
    "Now that we have our scores and predictions, how do we evaluate the performance of our logistic\n",
    "regression model?\n",
    "\n",
    "One challenge is that our Logistic Regression model does not actually predict 0-1 labels, it predicts\n",
    "a score between 0-1. Thus, we need to threshold the scores. That is, we need to pick a threshold\n",
    "$t$ such that if the score exceeds $t$, we predict 1, otherwise we predict 0. That is, we have a thresholding function:\n",
    "\n",
    "$$\n",
    "T(v) = \\mathbb{I}(v > t)\n",
    "$$\n",
    "\n",
    "Where $\\mathbb{I}(x) = 1$ if $x$ is true and 0 otherwise.\n",
    "\n",
    "Suppose that we are given the value of $t$, this allows us create two $m_{test}$-dimensional binary vectors. One vector contains the true labels for the test set (call it $\\mathbf{y}$) and the other contains our predicted labels (call it $\\mathbf{\\hat{y}}$).\n",
    "\n",
    "### (Bad Idea) Accuracy\n",
    "One approach is to simply compute the fraction of times that our prediction matches the true label. That is:\n",
    "\n",
    "$$\n",
    "Accuracy = \\frac{1}{m_{test}} \\sum_{i=1}^{m_{test}}{\\mathbb{I}(\\mathbf{y}_i = \\mathbf{\\hat{y}}_i)}\n",
    "$$\n",
    "\n",
    "Why is this a bad idea? To understand, imagine that we have built a Logistic Regression classifier to predict whether a person has some rare disease (1 = they have the disease, 0 = they do NOT have the disease). In this case, almost ALL of our training examples will be labeled 0 (because the disease is rare). Thus, a very stupid classifier that ALWAYS predicts 0 will achieve an incredibly high accuracy.\n",
    "\n",
    "### (Better Idea) Precision and Recall\n",
    "To get around this problem, we denote four situations:\n",
    "\n",
    "1. True Positive: We predict 1 and the label is 1\n",
    "2. True Negative: We predict 0 and the label is 0\n",
    "3. False Positive: We predict 1 and the label is 0\n",
    "4. False Negative: We predict 0 and the label is 1\n",
    "\n",
    "Denote the number of true positive, true negatives, false positives, and false negatives in our testing set with $TP$, $TN$, $FP$, and $FN$, respectively.\n",
    "\n",
    "We then define the following two numbers:\n",
    "\n",
    "$$\n",
    "Precision = \\frac{TP}{TP + FP}\n",
    "$$\n",
    "\n",
    "$$\n",
    "Recall = \\frac{TP}{TP + FN}\n",
    "$$\n",
    "\n",
    "Thus, going back to our \"predicting rare disease\" example, we have:\n",
    "\n",
    "Precision = When the person has the disease, what's the probability that our classifier will indicate so?\n",
    "\n",
    "Recall = What fraction of people with the disease is our classifier able to detect?\n",
    "\n",
    "\n",
    "\n",
    "Suppose that the fraction of people who have the disease is $p$."
   ]
  },
  {
   "cell_type": "markdown",
   "metadata": {},
   "source": [
    "**Exercise 5: What is the Precision and Recall of a classifier that always predicts that people have the disease?**"
   ]
  },
  {
   "cell_type": "markdown",
   "metadata": {},
   "source": [
    "$$\n",
    "Precision = \\frac{p}{p + (1-p)} = p \\\\\n",
    "Recall = \\frac{p}{p + 0} = 1\n",
    "$$"
   ]
  },
  {
   "cell_type": "markdown",
   "metadata": {},
   "source": [
    "**Exercise 6: What is the Precision and Recall of a classifier that never predicts that people have the disease?**"
   ]
  },
  {
   "cell_type": "markdown",
   "metadata": {},
   "source": [
    "$$\n",
    "Precision = \\frac{0}{0 + 0} = undefined \\\\\n",
    "Recall = \\frac{0}{0 + p} = 0\n",
    "$$"
   ]
  },
  {
   "cell_type": "markdown",
   "metadata": {},
   "source": [
    "**Exercise 7: What is the Precision and Recall of the perfect classifier?**"
   ]
  },
  {
   "cell_type": "markdown",
   "metadata": {},
   "source": [
    "$$\n",
    "Precision = \\frac{p}{p + 0)} = 1 \\\\\n",
    "Recall = \\frac{p}{p + 0} = 1\n",
    "$$"
   ]
  },
  {
   "cell_type": "markdown",
   "metadata": {},
   "source": [
    "**Exercise 8: What is the Precision and Recall of a classifier that flips a fair coin and predicts 1 if heads and 0 if tails?**"
   ]
  },
  {
   "cell_type": "markdown",
   "metadata": {},
   "source": [
    "$$\n",
    "Precision = \\frac{.5p}{.5p + .5p)} = 0.5 \\\\\n",
    "Recall = \\frac{.5p}{.5p + .5(1-p)} = p\n",
    "$$"
   ]
  },
  {
   "cell_type": "markdown",
   "metadata": {},
   "source": [
    "**Exercise 9: What is the Precision and Recall of a classifier that randomly samples a number from the uniform distribution over the interval [0, 1] and predicts 1 if the sample is $\\leq p$ and 0 otherwise?**"
   ]
  },
  {
   "cell_type": "markdown",
   "metadata": {},
   "source": [
    "$$\n",
    "Precision = \\frac{p * p}{p * p + p * p)} = 0.5 \\\\\n",
    "Recall = \\frac{p * p}{p * p + (1-p)(1-p)} = \\frac{p^2}{1 - 2p + 2p^2}\n",
    "$$"
   ]
  },
  {
   "cell_type": "markdown",
   "metadata": {},
   "source": [
    "### (Best Idea) F1 Score\n",
    "Precision and Recall are nice, but it would be nice to summarize the performance of the model using just a single number. For this purpose, we have a metric called the F1 score:\n",
    "\n",
    "$$\n",
    "F1 = 2 \\cdot \\frac{Precision \\cdot Recall}{Precision + Recall}\n",
    "$$\n",
    "\n",
    "### How do we pick the threshold $t$?\n",
    "We know $t \\in [0, 1]$, so try a thousand different values of $t$ between 0 and 1 and pick the one with the highest F1 score."
   ]
  },
  {
   "cell_type": "markdown",
   "metadata": {},
   "source": [
    "**Exercise 10: Implement Precision, Recall, and F1**"
   ]
  },
  {
   "cell_type": "code",
   "execution_count": 13,
   "metadata": {},
   "outputs": [
    {
     "name": "stdout",
     "output_type": "stream",
     "text": [
      "Implementation looks good\n"
     ]
    }
   ],
   "source": [
    "def precision_recall_f1(y_test, y_pred_labels):\n",
    "    \"\"\"\n",
    "    @param y_test - An array of m true binary labels.\n",
    "    @param y_pred_labels - An array of m predicted binary labels.\n",
    "    \n",
    "    @return A tuple of the form (f1, precision, recall)\n",
    "    \n",
    "    Hint: To count the number of examples where the prediction and\n",
    "        the label are both 0, you can do:\n",
    "        num_match = np.sum(np.where((y_test == 0) & (y_pred_labels == 0), 1, 0))\n",
    "    \"\"\"\n",
    "    def compute_f1(precision, recall):\n",
    "        return (2 * precision * recall / (precision + recall), precision, recall)\n",
    "    n = len(y_test)\n",
    "    assert(len(y_pred_labels) == n)\n",
    "    def num_matches(predicted, actual):\n",
    "        return np.sum(np.where((y_test == actual) & (y_pred_labels == predicted), 1, 0))\n",
    "    TP, FP, TN, FN = (num_matches(predicted=1, actual=1), num_matches(predicted=1, actual=0), \n",
    "                      num_matches(predicted=0, actual=0), num_matches(predicted=0, actual=1))\n",
    "    precision = (TP / (TP + FP))\n",
    "    recall = (TP / (TP + FN))\n",
    "    return compute_f1(precision, recall)\n",
    "\n",
    "    \n",
    "y_test_experiment = np.array(\n",
    "    [1, 0, 1, 0, 0],\n",
    ")\n",
    "y_pred_labels_experiment = np.array(\n",
    "    [1, 0, 0, 1, 1],\n",
    ")\n",
    "expected = (0.4, 1.0/3, 0.5)\n",
    "actual = precision_recall_f1(y_test_experiment, y_pred_labels_experiment)\n",
    "try:\n",
    "    assert(expected == actual)\n",
    "    print(\"Implementation looks good\")\n",
    "except:\n",
    "    print(\"Implementation has a bug\")"
   ]
  },
  {
   "cell_type": "markdown",
   "metadata": {},
   "source": [
    "**Exercise 11: Implement logic for picking the best threshold**"
   ]
  },
  {
   "cell_type": "code",
   "execution_count": 14,
   "metadata": {},
   "outputs": [
    {
     "name": "stdout",
     "output_type": "stream",
     "text": [
      "Implementation looks good\n"
     ]
    }
   ],
   "source": [
    "def pick_best_threshold(y_test, y_pred_scores, thresholds):\n",
    "    \"\"\"\n",
    "    @param y_test - An array of m true binary labels.\n",
    "    @param y_pred_labels - An array of m predicted scores on the interval [0, 1].\n",
    "    @param thresholds - An array of thresholds on the interval [0, 1] to try out.\n",
    "    \n",
    "    @return A dictionary with two keys: 'best_threshold' and 'precision_recall_f1s' where\n",
    "        'best_threshold' maps to the threshold that maximizes f1 and 'precision_recall_f1s'\n",
    "        is an array of (threshold, (f1, precision, recall)) tuples with one entry for each threshold\n",
    "        and sorted by increasing threshold.\n",
    "    \"\"\"\n",
    "    threshold_f1s = tuple(sorted({(i, precision_recall_f1(y_test, np.where(y_pred_scores > i, True, False))) for i in thresholds}, key=lambda t: t[0]))\n",
    "    best = sorted(threshold_f1s, key=lambda t:t[1][0],reverse=True)[0][0]\n",
    "    return {\"best_threshold\": best, \"precision_recall_f1s\": threshold_f1s}\n",
    "            \n",
    "\n",
    "y_test_experiment = np.array(\n",
    "    [1, 0, 1, 0, 0, 1],\n",
    ")\n",
    "y_pred_scores_experiment = np.array(\n",
    "    [0.8, 0.3, 0.1, 0.5, 0.7, 0.7],\n",
    ")\n",
    "expected = (0.4, 1.0/3, 0.5)\n",
    "result = pick_best_threshold(y_test_experiment, y_pred_scores_experiment, [0.25, 0.5, 0.75])\n",
    "try:\n",
    "    assert(result['best_threshold'] == 0.5)\n",
    "    assert(\n",
    "        tuple(result['precision_recall_f1s']) == (\n",
    "            (0.25, (0.5, 0.4, 2.0/3)), \n",
    "            (0.5, (2.0/3, 2.0/3, 2.0/3)), \n",
    "            (0.75, (0.5, 1.0, 1.0/3))\n",
    "        )\n",
    "    )\n",
    "    print(\"Implementation looks good\")\n",
    "except:\n",
    "    print(\"Implementation has a bug\")"
   ]
  },
  {
   "cell_type": "markdown",
   "metadata": {},
   "source": [
    "## Evaluating Logistic Regression\n",
    "\n",
    "Let's now evaluate your logistic regression implementation."
   ]
  },
  {
   "cell_type": "code",
   "execution_count": 15,
   "metadata": {},
   "outputs": [
    {
     "name": "stderr",
     "output_type": "stream",
     "text": [
      "C:\\Anaconda3\\lib\\site-packages\\ipykernel_launcher.py:20: RuntimeWarning: invalid value encountered in long_scalars\n"
     ]
    },
    {
     "data": {
      "image/png": "[encoded data removed]",
      "text/plain": [
       "<Figure size 432x288 with 1 Axes>"
      ]
     },
     "metadata": {},
     "output_type": "display_data"
    },
    {
     "data": {
      "image/png": "[encoded data removed]",
      "text/plain": [
       "<Figure size 432x288 with 1 Axes>"
      ]
     },
     "metadata": {},
     "output_type": "display_data"
    },
    {
     "name": "stdout",
     "output_type": "stream",
     "text": [
      "Best threshold is 0.005\n",
      "It achieves f1 = 0.8122004357298476, precision = 0.7367588932806324, recall = 0.9048543689320389\n"
     ]
    }
   ],
   "source": [
    "import matplotlib.pyplot as plt\n",
    "thresholds = np.linspace(0, 1, 1001)\n",
    "result = pick_best_threshold(y_test, y_pred_scores, thresholds)\n",
    "\n",
    "f1s = [p[1][0] for p in result['precision_recall_f1s']]\n",
    " \n",
    "plt.scatter(thresholds, f1s)\n",
    "plt.title('F1 vs. threshold')\n",
    "plt.xlabel('threshold')\n",
    "plt.ylabel('F1')\n",
    "plt.show()\n",
    "\n",
    "precision, recall = zip(*[(p[1][1], p[1][2]) for p in result['precision_recall_f1s']])\n",
    "\n",
    "plt.scatter(precision, recall)\n",
    "plt.title('Precision vs. Recall')\n",
    "plt.xlabel('Recall')\n",
    "plt.ylabel('Precision')\n",
    "plt.show()\n",
    "\n",
    "best_threshold = result['best_threshold']\n",
    "print('Best threshold is {}'.format(best_threshold))\n",
    "print(\n",
    "    'It achieves f1 = {}, precision = {}, recall = {}'.format(\n",
    "        *[p[1] for p in result['precision_recall_f1s'] if p[0] == best_threshold][0],\n",
    "    )\n",
    ")"
   ]
  },
  {
   "cell_type": "code",
   "execution_count": null,
   "metadata": {},
   "outputs": [],
   "source": []
  }
 ],
 "metadata": {
  "kernelspec": {
   "display_name": "Python 3",
   "language": "python",
   "name": "python3"
  },
  "language_info": {
   "codemirror_mode": {
    "name": "ipython",
    "version": 3
   },
   "file_extension": ".py",
   "mimetype": "text/x-python",
   "name": "python",
   "nbconvert_exporter": "python",
   "pygments_lexer": "ipython3",
   "version": "3.6.5"
  }
 },
 "nbformat": 4,
 "nbformat_minor": 2
}
