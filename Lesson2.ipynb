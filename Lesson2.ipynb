{
 "cells": [
  {
   "cell_type": "markdown",
   "metadata": {},
   "source": [
    "# Polynomial Fitting\n",
    "\n",
    "In this notebook, we will implement linear regression and use it to fit polynomials to a given set of points.\n",
    "\n",
    "For example, suppose you perform a scientific experiment where you vary an independent variable and measure the impact on a dependent variable. This will produce a set of `(x, y)` pairs. To understand the relationship between the independent and dependent variable, you will want to fit a polynomial to this set of points.\n",
    "\n",
    "Fitting a line (degree one polynomial) to 2 points is easy to do by hand, but in real life we have two additional complications:\n",
    "\n",
    "1. The points may be noisy (i.e. there is no low-degree polynomial that fits them nicely - you may require something like a degree N-1 polynomial to fit the N points exactly)\n",
    "2. You may want to fit a polynomial whose degree exceeds 1\n",
    "\n",
    "To solve both these problems, we can use linear regression.\n",
    "\n",
    "Before you get started, read to page 11 of the following document:\n",
    "\n",
    "http://cs229.stanford.edu/notes/cs229-notes1.pdf\n",
    "\n",
    "*Note: Make sure you have Anaconda installed*"
   ]
  },
  {
   "cell_type": "code",
   "execution_count": null,
   "metadata": {
    "collapsed": true
   },
   "outputs": [],
   "source": [
    "def to_feature_vector(x, degree):\n",
    "    \"\"\"\n",
    "    Given a real number representing an x value, as well as the degree of\n",
    "    the polynomial being fit, create a feature vector from the x value.\n",
    "    \n",
    "    We will take all the feature vectors (treated as row vectors) and stack\n",
    "    them on top of each other to construct the matrix X that we pass into\n",
    "    the normal_equation function.\n",
    "    \n",
    "    So, if there are N training examples and you decide to create a\n",
    "    feature vector of length D in this function, then the matrix X will\n",
    "    have size NxD.\n",
    "    \n",
    "    @param x - The real number representing the x value.\n",
    "    @param degree - The degree of the polynomial being fit.\n",
    "    @return An array representing the feature vector associated with the given x value\n",
    "        for a polynomial with the given degree.\n",
    "    \"\"\"\n",
    "    raise Exception(\"You need to implement this\")\n",
    "\n",
    "def normal_equation(X, y):\n",
    "    \"\"\"\n",
    "    Given an NxD matrix X and a Nx1 column vector y, perform linear\n",
    "    regression. That is, implement the equation on page 11 of:\n",
    "    \n",
    "    http://cs229.stanford.edu/notes/cs229-notes1.pdf\n",
    "    \n",
    "    Note: To transpose a matrix or vector (call it K), do K.T or np.transpose(K).\n",
    "    \n",
    "    You may find the following links helpful:\n",
    "    https://docs.scipy.org/doc/numpy/reference/generated/numpy.dot.html\n",
    "    https://docs.scipy.org/doc/numpy/reference/generated/numpy.matmul.html\n",
    "    https://docs.scipy.org/doc/numpy/reference/generated/numpy.linalg.inv.html\n",
    "    \n",
    "    @param X - The matrix of feature vectors (also called the design matrix).\n",
    "    @param y - The labels (or y value) associated with each feature vector.\n",
    "    @return theta, the coefficients of the linear regression.\n",
    "    \"\"\"\n",
    "    raise Exception(\"You need to implement this\")"
   ]
  },
  {
   "cell_type": "code",
   "execution_count": null,
   "metadata": {
    "collapsed": true
   },
   "outputs": [],
   "source": [
    "import numpy as np\n",
    "import random\n",
    "import matplotlib.pyplot as plt\n",
    "\n",
    "def random_polynomial(degree=None):\n",
    "    \"\"\"\n",
    "    Generate a random polynomial of the given degree.\n",
    "    \n",
    "    @return a list of coefficients where coefficients[i] is the coefficient of x^i.\n",
    "    \"\"\"\n",
    "    return np.random.uniform(-2, 2, degree or random.randint(1, 6))\n",
    "\n",
    "def polynomial_to_string(polynomial):\n",
    "    \"\"\"\n",
    "    Convert the polynomial into a string.\n",
    "    \"\"\"\n",
    "    return 'f(x) = ' + str(polynomial[0]) + ''.join(\n",
    "        ' {prefix} {coeff} * x^{i}'.format(\n",
    "            prefix='+' if polynomial[i] > 0 else '-',\n",
    "            coeff=abs(polynomial[i]),\n",
    "            i=i,\n",
    "        ) for i in range(1, len(polynomial))\n",
    "    )\n",
    "\n",
    "def generate_dataset(\n",
    "    polynomial=None,\n",
    "    num_points=100,\n",
    "    min_x=-10,\n",
    "    max_x=10,\n",
    "    noise_sigma=None,\n",
    "):\n",
    "    \"\"\"\n",
    "    Generate some sample data from the given polynomial.\n",
    "    \n",
    "    @param polynomial - The polynomial. If None, we generate a random polynomial.\n",
    "    @param num_points - The number of points to sample from the polynomial.\n",
    "    @param min_x - The input x-values to the polynomial will be at least this value.\n",
    "    @param max_x - The input x-values to the polynomial will be at most this value.\n",
    "    @param noise_sigma - If None, we simply sample from the polynomial. Otherwise,\n",
    "        we apply some random Gaussian noise to each sampled y-value. The Gaussian\n",
    "        is centered at zero with standard deviation = noise_sigma.\n",
    "    \n",
    "    @return A triple of the form: (polynomial, array of x values, array of y values).\n",
    "    \"\"\"\n",
    "    # Generate a random polynomial unless one is provided.\n",
    "    polynomial = polynomial if polynomial is not None else random_polynomial()\n",
    "    \n",
    "    # Generate some sample x values.\n",
    "    x_values = np.random.uniform(min_x, max_x, num_points)\n",
    "    \n",
    "    # Compute the the polynomial at each of the x values.\n",
    "    y_values_raw = np.polynomial.polynomial.polyval(x_values, polynomial)\n",
    "    \n",
    "    # If the user asked for noise, apply Gaussian noise to the inputs.\n",
    "    noise = np.random.normal(0, noise_sigma or 0, num_points)\n",
    "    \n",
    "    return (polynomial, x_values, y_values_raw + noise)\n",
    "\n",
    "def evaluate_linear_regression(polynomial, x_values, y_values, degree):\n",
    "    \"\"\"\n",
    "    Given a polynomial and some points sampled from it, fit a linear regression\n",
    "    model of the given degree to the points.\n",
    "    \n",
    "    Display the actual and predicted polynomial along with plots of the points\n",
    "    and the predicted polynomial.\n",
    "    \"\"\"\n",
    "    plt.plot(x_values, y_values, 'o')\n",
    "    \n",
    "    estimated_polynomial = fit_linear_regression(x_values, y_values, degree)\n",
    "    polynomial_x_values = np.linspace(min(x_values), max(x_values), 1000)\n",
    "    polynomial_y_values = np.polynomial.polynomial.polyval(polynomial_x_values, estimated_polynomial)\n",
    "    plt.plot(polynomial_x_values, polynomial_y_values, '-')\n",
    "    print('Actual Polynomial: ', polynomial_to_string(polynomial))\n",
    "    print('Your Prediction: ', polynomial_to_string(estimated_polynomial))\n",
    "    plt.show()\n",
    "\n",
    "def fit_linear_regression(x_values, y_values, degree):\n",
    "    \"\"\"\n",
    "    Fit a polynomial to the given data.\n",
    "    \n",
    "    @param x_values - An array of real numbers representing the x values.\n",
    "    @param y_values - An array of real numbers representing the y values.\n",
    "        So, (x_values[i], y_values[i]) is a training example.\n",
    "    @param degree - The degree of the polynomial to fit.\n",
    "    \n",
    "    @return The polynomial of the given degree that is fit to the given points.\n",
    "    \"\"\"\n",
    "    X = np.array([to_feature_vector(x, degree) for x in x_values])\n",
    "    return normal_equation(X, y_values.T)\n"
   ]
  },
  {
   "cell_type": "code",
   "execution_count": null,
   "metadata": {},
   "outputs": [],
   "source": [
    "# Test 1: Let's try fitting the polynomial 2x^2 + 3x + 4.\n",
    "evaluate_linear_regression(\n",
    "    *generate_dataset(\n",
    "        polynomial=[4, 3, 2],\n",
    "    ),\n",
    "    degree=2,\n",
    ")"
   ]
  },
  {
   "cell_type": "code",
   "execution_count": null,
   "metadata": {},
   "outputs": [],
   "source": [
    "# Test 2: Let's try fitting the polynomial 2x^2 + 3x + 4, but where we have added noise to the points.\n",
    "evaluate_linear_regression(\n",
    "    *generate_dataset(\n",
    "        polynomial=[4, 3, 2],\n",
    "        noise_sigma=10,\n",
    "    ),\n",
    "    degree=2,\n",
    ")"
   ]
  },
  {
   "cell_type": "code",
   "execution_count": null,
   "metadata": {},
   "outputs": [],
   "source": [
    "# Test 3: Let's try fitting the polynomial 2x^2 + 3x + 4, with a cubic.\n",
    "evaluate_linear_regression(\n",
    "    *generate_dataset(\n",
    "        polynomial=[4, 3, 2],\n",
    "    ),\n",
    "    degree=3,\n",
    ")"
   ]
  },
  {
   "cell_type": "code",
   "execution_count": null,
   "metadata": {},
   "outputs": [],
   "source": [
    "# Test 4: Let's try fitting the polynomial 2x^2 + 3x + 4, with a line.\n",
    "evaluate_linear_regression(\n",
    "    *generate_dataset(\n",
    "        polynomial=[4, 3, 2],\n",
    "    ),\n",
    "    degree=1,\n",
    ")"
   ]
  },
  {
   "cell_type": "code",
   "execution_count": null,
   "metadata": {
    "collapsed": true
   },
   "outputs": [],
   "source": [
    "# Let's generate a random polynomial with some noise.\n",
    "(polynomial, x_values, y_values) = generate_dataset(noise_sigma=3)"
   ]
  },
  {
   "cell_type": "code",
   "execution_count": null,
   "metadata": {},
   "outputs": [],
   "source": [
    "# Test 5: Let's fit that random polynomial.\n",
    "evaluate_linear_regression(polynomial, x_values, y_values, 2)"
   ]
  },
  {
   "cell_type": "code",
   "execution_count": null,
   "metadata": {
    "collapsed": true
   },
   "outputs": [],
   "source": []
  }
 ],
 "metadata": {
  "kernelspec": {
   "display_name": "Python 3",
   "language": "python",
   "name": "python3"
  },
  "language_info": {
   "codemirror_mode": {
    "name": "ipython",
    "version": 3
   },
   "file_extension": ".py",
   "mimetype": "text/x-python",
   "name": "python",
   "nbconvert_exporter": "python",
   "pygments_lexer": "ipython3",
   "version": "3.6.3"
  }
 },
 "nbformat": 4,
 "nbformat_minor": 2
}
